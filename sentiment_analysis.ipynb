{
 "cells": [
  {
   "cell_type": "code",
   "execution_count": 1,
   "metadata": {},
   "outputs": [],
   "source": [
    "import os\n",
    "import numpy as np\n",
    "import tensorflow as tf\n",
    "from tensorflow.keras.models import Sequential, load_model\n",
    "from tensorflow.keras.layers import Dense, Embedding, GlobalAveragePooling1D\n",
    "from tensorflow.keras.preprocessing.sequence import pad_sequences\n",
    "import pickle\n",
    "import pandas as pd"
   ]
  },
  {
   "cell_type": "code",
   "execution_count": 8,
   "metadata": {},
   "outputs": [],
   "source": [
    "from sklearn.model_selection import train_test_split"
   ]
  },
  {
   "cell_type": "markdown",
   "metadata": {},
   "source": [
    "# Load and shuffle data"
   ]
  },
  {
   "cell_type": "code",
   "execution_count": 2,
   "metadata": {},
   "outputs": [],
   "source": [
    "file_path = \"data.csv\"\n",
    "data = pd.read_csv(file_path, encoding='ISO-8859-1')\n",
    "df_shuffled = data.sample(frac=1).reset_index(drop=True)"
   ]
  },
  {
   "cell_type": "code",
   "execution_count": 3,
   "metadata": {},
   "outputs": [
    {
     "name": "stdout",
     "output_type": "stream",
     "text": [
      "Total number of sentences:  1599999\n"
     ]
    }
   ],
   "source": [
    "# print len of data\n",
    "print(\"Total number of sentences: \", len(df_shuffled))"
   ]
  },
  {
   "cell_type": "markdown",
   "metadata": {},
   "source": [
    "# Set parameters"
   ]
  },
  {
   "cell_type": "code",
   "execution_count": 4,
   "metadata": {},
   "outputs": [],
   "source": [
    "VOCAB_SIZE = 10000\n",
    "MAX_LEN = 250\n",
    "EMBEDDING_DIM = 16"
   ]
  },
  {
   "cell_type": "markdown",
   "metadata": {},
   "source": [
    "# Preprocess Data"
   ]
  },
  {
   "cell_type": "code",
   "execution_count": 5,
   "metadata": {},
   "outputs": [],
   "source": [
    "texts = []\n",
    "labels = []\n",
    "\n",
    "for _, row in df_shuffled.iterrows():\n",
    "    texts.append(row[-1])\n",
    "    label = row[0]\n",
    "    labels.append(0 if label == 0 else 1 if label == 2 else 2)\n",
    "\n",
    "texts = np.array(texts)\n",
    "labels = np.array(labels)"
   ]
  },
  {
   "cell_type": "markdown",
   "metadata": {},
   "source": [
    "# Tokenize"
   ]
  },
  {
   "cell_type": "code",
   "execution_count": 6,
   "metadata": {},
   "outputs": [],
   "source": [
    "tokenizer = tf.keras.preprocessing.text.Tokenizer(num_words=VOCAB_SIZE)\n",
    "tokenizer.fit_on_texts(texts)\n",
    "sequences = tokenizer.texts_to_sequences(texts)\n",
    "padded_sequences = pad_sequences(sequences, maxlen=MAX_LEN, value=VOCAB_SIZE-1, padding='post')"
   ]
  },
  {
   "cell_type": "code",
   "execution_count": 7,
   "metadata": {},
   "outputs": [],
   "source": [
    "with open('tokenizer.pickle', 'wb') as handle:\n",
    "    pickle.dump(tokenizer, handle, protocol=pickle.HIGHEST_PROTOCOL)"
   ]
  },
  {
   "cell_type": "markdown",
   "metadata": {},
   "source": [
    "# Train Test Split"
   ]
  },
  {
   "cell_type": "code",
   "execution_count": 9,
   "metadata": {},
   "outputs": [],
   "source": [
    "# Split the data into training and test sets (5% for testing)\n",
    "train_data, test_data, train_labels, test_labels = train_test_split(\n",
    "    padded_sequences, labels, test_size=0.05, random_state=42\n",
    ")"
   ]
  },
  {
   "cell_type": "markdown",
   "metadata": {},
   "source": [
    "# Train"
   ]
  },
  {
   "cell_type": "code",
   "execution_count": 10,
   "metadata": {},
   "outputs": [],
   "source": [
    "model = Sequential([\n",
    "        Embedding(VOCAB_SIZE, EMBEDDING_DIM, input_length=MAX_LEN),\n",
    "        GlobalAveragePooling1D(),\n",
    "        Dense(16, activation='relu'),\n",
    "        Dense(3, activation='softmax')\n",
    "    ])"
   ]
  },
  {
   "cell_type": "code",
   "execution_count": 11,
   "metadata": {},
   "outputs": [],
   "source": [
    "model.compile(optimizer='adam', loss='sparse_categorical_crossentropy', metrics=['accuracy'])"
   ]
  },
  {
   "cell_type": "code",
   "execution_count": 12,
   "metadata": {},
   "outputs": [
    {
     "name": "stdout",
     "output_type": "stream",
     "text": [
      "Epoch 1/10\n",
      "38000/38000 [==============================] - 115s 3ms/step - loss: 0.4906 - accuracy: 0.7697 - val_loss: 0.4528 - val_accuracy: 0.7956\n",
      "Epoch 2/10\n",
      "38000/38000 [==============================] - 110s 3ms/step - loss: 0.4487 - accuracy: 0.7957 - val_loss: 0.4495 - val_accuracy: 0.7933\n",
      "Epoch 3/10\n",
      "38000/38000 [==============================] - 112s 3ms/step - loss: 0.4387 - accuracy: 0.7986 - val_loss: 0.4514 - val_accuracy: 0.7905\n",
      "Epoch 4/10\n",
      "38000/38000 [==============================] - 113s 3ms/step - loss: 0.4311 - accuracy: 0.8011 - val_loss: 0.4318 - val_accuracy: 0.8020\n",
      "Epoch 5/10\n",
      "38000/38000 [==============================] - 106s 3ms/step - loss: 0.4269 - accuracy: 0.8033 - val_loss: 0.4289 - val_accuracy: 0.8028\n",
      "Epoch 6/10\n",
      "38000/38000 [==============================] - 107s 3ms/step - loss: 0.4238 - accuracy: 0.8049 - val_loss: 0.4339 - val_accuracy: 0.7986\n",
      "Epoch 7/10\n",
      "38000/38000 [==============================] - 113s 3ms/step - loss: 0.4214 - accuracy: 0.8065 - val_loss: 0.4273 - val_accuracy: 0.8050\n",
      "Epoch 8/10\n",
      "38000/38000 [==============================] - 139s 4ms/step - loss: 0.4190 - accuracy: 0.8082 - val_loss: 0.4315 - val_accuracy: 0.8026\n",
      "Epoch 9/10\n",
      "38000/38000 [==============================] - 130s 3ms/step - loss: 0.4168 - accuracy: 0.8094 - val_loss: 0.4306 - val_accuracy: 0.8018\n",
      "Epoch 10/10\n",
      "38000/38000 [==============================] - 141s 4ms/step - loss: 0.4148 - accuracy: 0.8104 - val_loss: 0.4287 - val_accuracy: 0.8033\n"
     ]
    },
    {
     "data": {
      "text/plain": [
       "<keras.callbacks.History at 0x1f31531f790>"
      ]
     },
     "execution_count": 12,
     "metadata": {},
     "output_type": "execute_result"
    }
   ],
   "source": [
    "model.fit(train_data, train_labels, epochs=10, batch_size=32, validation_split=0.2)"
   ]
  },
  {
   "cell_type": "markdown",
   "metadata": {},
   "source": [
    "# Evaluate"
   ]
  },
  {
   "cell_type": "code",
   "execution_count": 13,
   "metadata": {},
   "outputs": [
    {
     "name": "stdout",
     "output_type": "stream",
     "text": [
      "2500/2500 [==============================] - 5s 2ms/step - loss: 0.4303 - accuracy: 0.8018\n",
      "Test accuracy: 80.18%\n"
     ]
    }
   ],
   "source": [
    "loss, accuracy = model.evaluate(test_data, test_labels)\n",
    "print(f\"Test accuracy: {accuracy * 100:.2f}%\")"
   ]
  },
  {
   "cell_type": "markdown",
   "metadata": {},
   "source": [
    "# Save"
   ]
  },
  {
   "cell_type": "code",
   "execution_count": 14,
   "metadata": {},
   "outputs": [],
   "source": [
    "model.save('sentiment_analysis_model.h5')"
   ]
  },
  {
   "cell_type": "markdown",
   "metadata": {},
   "source": [
    "# Predict"
   ]
  },
  {
   "cell_type": "code",
   "execution_count": 27,
   "metadata": {},
   "outputs": [],
   "source": [
    "with open('tokenizer.pickle', 'rb') as handle:\n",
    "    tokenizer = pickle.load(handle)"
   ]
  },
  {
   "cell_type": "code",
   "execution_count": 33,
   "metadata": {},
   "outputs": [
    {
     "name": "stdout",
     "output_type": "stream",
     "text": [
      "1/1 [==============================] - 0s 54ms/step\n",
      "Sentiment: Positive\n"
     ]
    }
   ],
   "source": [
    "def encode_tex_with_loaded_tokenizer(text, tokenizer):\n",
    "    tokens = tokenizer.texts_to_sequences([text])\n",
    "    return pad_sequences(tokens, maxlen=MAX_LEN, padding='post', value=VOCAB_SIZE-1)\n",
    "\n",
    "user_input = input(\"\")\n",
    "encoded_input = encode_tex_with_loaded_tokenizer(user_input, tokenizer)\n",
    "prediction = np.argmax(model.predict(encoded_input))\n",
    "if prediction == 0:\n",
    "    print(\"Sentiment: Negative\")\n",
    "elif prediction == 1:\n",
    "    print(\"Sentiment: Neutral\")\n",
    "else:\n",
    "    print(\"Sentiment: Positive\")"
   ]
  }
 ],
 "metadata": {
  "kernelspec": {
   "display_name": "Python 3",
   "language": "python",
   "name": "python3"
  },
  "language_info": {
   "codemirror_mode": {
    "name": "ipython",
    "version": 3
   },
   "file_extension": ".py",
   "mimetype": "text/x-python",
   "name": "python",
   "nbconvert_exporter": "python",
   "pygments_lexer": "ipython3",
   "version": "3.11.4"
  }
 },
 "nbformat": 4,
 "nbformat_minor": 2
}
